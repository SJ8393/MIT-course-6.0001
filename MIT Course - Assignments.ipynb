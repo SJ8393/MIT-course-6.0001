{
 "cells": [
  {
   "cell_type": "code",
   "execution_count": 12,
   "metadata": {},
   "outputs": [
    {
     "name": "stdout",
     "output_type": "stream",
     "text": [
      "Enter number x: 2\n",
      "Enter number y: 3\n",
      "x**y =  8\n",
      "log(x) = 1\n"
     ]
    }
   ],
   "source": [
    "####PSET = 0 ----- Q1 #######\n",
    "x = int(input(\"Enter number x: \"))\n",
    "y = int(input(\"Enter number y: \"))\n",
    "print (\"x**y = \", x**y) ## If using + to concatenate, cast to string first \n",
    "\n",
    "import math\n",
    "print (\"log(x) = \"+ str(int(math.log(x,2))))  ## can also use numpy.log2 function from numpy"
   ]
  },
  {
   "cell_type": "code",
   "execution_count": 16,
   "metadata": {},
   "outputs": [
    {
     "name": "stdout",
     "output_type": "stream",
     "text": [
      "Enter your annual salary: 2500000\n",
      "Enter the percent of your salary to save, as a decimal: 0.20\n",
      "Enter the cost of your dream home: 50000000\n",
      "Number of months:  209\n"
     ]
    }
   ],
   "source": [
    "####PSET = 1 ----- Q1 - House Hunting #######\n",
    "\n",
    "annual_income = int(input(\"Enter your annual salary: \"))\n",
    "portion_saved = float(input(\"Enter the percent of your salary to save, as a decimal: \"))\n",
    "total_cost = int(input(\"Enter the cost of your dream home: \"))\n",
    "\n",
    "portion_down_payment = 0.25*total_cost\n",
    "\n",
    "current_savings = 0\n",
    "month = 0\n",
    "while(portion_down_payment-current_savings>0):\n",
    "    saved_each_month = 0.04/12*current_savings + portion_saved * annual_income/12\n",
    "    current_savings += saved_each_month\n",
    "    month +=1\n",
    "\n",
    "print(\"Number of months: \",month)"
   ]
  },
  {
   "cell_type": "code",
   "execution_count": 28,
   "metadata": {
    "scrolled": true
   },
   "outputs": [
    {
     "name": "stdout",
     "output_type": "stream",
     "text": [
      "Enter your annual salary: 75000\n",
      "Enter the percent of your salary to save, as a decimal: 0.05\n",
      "Enter the semi­annual raise, as a decimal: 0.05\n",
      "Enter the cost of your dream home:  1500000\n",
      "Number of months:  260\n"
     ]
    }
   ],
   "source": [
    "####PSET = 1 ----- Q2 - Saving, with a raise #######\n",
    "\n",
    "annual_income = int(input(\"Enter your annual salary: \"))\n",
    "portion_saved = float(input(\"Enter the percent of your salary to save, as a decimal: \"))\n",
    "semi_annual_raise = float(input(\"Enter the semi­annual raise, as a decimal: \"))\n",
    "total_cost = int(input(\"Enter the cost of your dream home: \"))\n",
    "\n",
    "portion_down_payment = 0.25*total_cost\n",
    "\n",
    "current_savings = 0\n",
    "month = 0\n",
    "monthly_income = annual_income/12\n",
    "\n",
    "while(portion_down_payment-current_savings>0):\n",
    "    if (month+1)%6==0:\n",
    "        monthly_income = monthly_income*(1+semi_annual_raise)\n",
    "    saved_each_month = 0.04/12*current_savings + portion_saved * monthly_income\n",
    "    current_savings += saved_each_month\n",
    "    month +=1\n",
    "\n",
    "print(\"Number of months: \",month)"
   ]
  },
  {
   "cell_type": "code",
   "execution_count": 29,
   "metadata": {},
   "outputs": [
    {
     "name": "stdout",
     "output_type": "stream",
     "text": [
      "Enter your starting salary :10000\n",
      "Not possible\n"
     ]
    }
   ],
   "source": [
    "####PSET = 1 ----- Q3 - Finding the right amount to save away #######\n",
    "\n",
    "annual_salary = int(input(\"Enter your starting salary :\"))\n",
    "semi_annual_raise = 0.07\n",
    "# portion_saved = float(input(\"Enter the percentage of income you save each month :\"))\n",
    "total_cost = 1000000\n",
    "\n",
    "portion_down_payment = 250000\n",
    "current_savings = 0\n",
    "r = 0.04\n",
    "count = 0\n",
    "\n",
    "start = 0\n",
    "end = 1\n",
    "guess = 0.5\n",
    "\n",
    "def max_savings(annual_salary):\n",
    "    c_savings = 0\n",
    "    for i in range(36):\n",
    "        month_saved = 1*(annual_salary/12) + c_savings*(r/12)\n",
    "        c_savings += month_saved\n",
    "        if (i + 1) % 6 == 0:\n",
    "            annual_salary = (1 + semi_annual_raise)*annual_salary\n",
    "    return c_savings\n",
    "\n",
    "def savings_36(annual_salary, guess):\n",
    "    c_savings = 0\n",
    "    for i in range(36):\n",
    "        month_saved = guess*(annual_salary/12) + c_savings*(r/12)\n",
    "        c_savings += month_saved\n",
    "        if (i + 1) % 6 == 0:\n",
    "            annual_salary = (1 + semi_annual_raise)*annual_salary\n",
    "    return c_savings\n",
    "\n",
    "max_sav = max_savings(annual_salary)\n",
    "\n",
    "if max_sav < portion_down_payment:\n",
    "    print(\"Not possible\")\n",
    "    exit()\n",
    "else:\n",
    "    while abs(current_savings - portion_down_payment) > 100 :\n",
    "        current_savings = savings_36(annual_salary, guess)\n",
    "        if (current_savings - portion_down_payment) > 100:\n",
    "            end = guess\n",
    "            guess = (start + end)/2\n",
    "        else:\n",
    "            start = guess\n",
    "            guess = (start + end)/2\n",
    "        count += 1\n",
    "    print(guess)\n",
    "    print(count)"
   ]
  },
  {
   "cell_type": "code",
   "execution_count": null,
   "metadata": {},
   "outputs": [],
   "source": []
  }
 ],
 "metadata": {
  "kernelspec": {
   "display_name": "Python 3",
   "language": "python",
   "name": "python3"
  },
  "language_info": {
   "codemirror_mode": {
    "name": "ipython",
    "version": 3
   },
   "file_extension": ".py",
   "mimetype": "text/x-python",
   "name": "python",
   "nbconvert_exporter": "python",
   "pygments_lexer": "ipython3",
   "version": "3.8.5"
  }
 },
 "nbformat": 4,
 "nbformat_minor": 4
}
